{
 "cells": [
  {
   "cell_type": "markdown",
   "id": "9f64e0cc",
   "metadata": {},
   "source": [
    "## This file will navigate to a directory with multiple CSVs and compile ALL of them into 1 master CSV, with the header"
   ]
  },
  {
   "cell_type": "code",
   "execution_count": 1,
   "id": "5cd44abc",
   "metadata": {},
   "outputs": [],
   "source": [
    "from tqdm.notebook import tqdm"
   ]
  },
  {
   "cell_type": "code",
   "execution_count": 4,
   "id": "b311d07a-c96e-47c4-b822-955ac5b06a90",
   "metadata": {
    "tags": []
   },
   "outputs": [
    {
     "name": "stdout",
     "output_type": "stream",
     "text": [
      "complete!\n"
     ]
    }
   ],
   "source": [
    "# import dependencies\n",
    "import pandas as pd\n",
    "import os\n",
    "import glob\n",
    "\n",
    "path = 'Data/Geocoded/'\n",
    "path_files = glob.glob(os.path.join(path, \"*.csv\"))\n",
    "joined_df = pd.concat((pd.read_csv(f) for f in path_files)).drop_duplicates().reset_index(drop=True)\n",
    "joined_df = joined_df.drop(columns='url')\n",
    "joined_df = joined_df.loc[:, ~joined_df.columns.str.startswith('Unnamed')]\n",
    "\n",
    "joined_df.to_csv('cobbGeocoded.csv')\n",
    "print('complete!')"
   ]
  },
  {
   "cell_type": "code",
   "execution_count": null,
   "id": "21307d21-40a9-476b-ac7f-94127cfa1315",
   "metadata": {
    "tags": []
   },
   "outputs": [],
   "source": [
    "# clean up\n",
    "joined_df = joined_df[[\n",
    "    'Street Name', \n",
    "    'Sale Date',\n",
    "    'Sale Price',\n",
    "    'Square Ft ']]\n",
    "\n",
    "joined_df['full_address'] = joined_df['Street Name'] + ' Cobb County, GA'\n",
    "\n",
    "# Function to convert currency string to integer\n",
    "def convert_currency_to_int(currency):\n",
    "    currency = currency.replace('$', '').replace(',', '')  # Remove '$' and ','\n",
    "    currency = currency.split('.')[0]\n",
    "    return int(currency)\n",
    "\n",
    "# Apply the conversion function to the 'Sale Price' column and create a new 'price_num' column\n",
    "joined_df['price_num'] = joined_df['Sale Price'].apply(convert_currency_to_int)\n",
    "\n",
    "# create price / SF columns\n",
    "joined_df['price_sf'] = joined_df['price_num'] / joined_df['Square Ft ']\n",
    "\n",
    "joined_df.rename(columns={\n",
    "    'Sale Date':'sale_date',\n",
    "    'Sale Price':'sale_price',\n",
    "    'Square Ft ':'sq_feet',\n",
    "    'Street Name':'street_name'\n",
    "}, inplace=True)\n",
    "\n",
    "joined_df = joined_df[[\n",
    "    'street_name',\n",
    "    'full_address',\n",
    "    'sale_date',\n",
    "    'sale_price',\n",
    "    'price_num',\n",
    "    'sq_feet',\n",
    "    'price_sf'\n",
    "]]\n",
    "\n",
    "joined_df['sale_date']= pd.to_datetime(joined_df['sale_date'])\n",
    "\n",
    "joined_df = joined_df.sort_values(by=['sale_date'])"
   ]
  },
  {
   "cell_type": "code",
   "execution_count": 41,
   "id": "bef6c32c-a512-4af7-8b6d-6a3adaa089e7",
   "metadata": {},
   "outputs": [
    {
     "name": "stdout",
     "output_type": "stream",
     "text": [
      "complete!\n"
     ]
    }
   ],
   "source": [
    "# split the big dataset into smaller chunks\n",
    "n = 15000  #chunk row size\n",
    "list_df = [joined_df[i:i+n] for i in range(0,joined_df.shape[0],n)]\n",
    "\n",
    "list_df[0].to_csv('Data/Ready_4_geocode/cobb_batch1.csv')\n",
    "list_df[1].to_csv('Data/Ready_4_geocode/cobb_batch2.csv')\n",
    "list_df[2].to_csv('Data/Ready_4_geocode/cobb_batch3.csv')\n",
    "list_df[3].to_csv('Data/Ready_4_geocode/cobb_batch4.csv')\n",
    "list_df[4].to_csv('Data/Ready_4_geocode/cobb_batch5.csv')\n",
    "list_df[5].to_csv('Data/Ready_4_geocode/cobb_batch6.csv')\n",
    "\n",
    "print('complete!')"
   ]
  }
 ],
 "metadata": {
  "kernelspec": {
   "display_name": "Python 3 (ipykernel)",
   "language": "python",
   "name": "python3"
  },
  "language_info": {
   "codemirror_mode": {
    "name": "ipython",
    "version": 3
   },
   "file_extension": ".py",
   "mimetype": "text/x-python",
   "name": "python",
   "nbconvert_exporter": "python",
   "pygments_lexer": "ipython3",
   "version": "3.11.4"
  }
 },
 "nbformat": 4,
 "nbformat_minor": 5
}
