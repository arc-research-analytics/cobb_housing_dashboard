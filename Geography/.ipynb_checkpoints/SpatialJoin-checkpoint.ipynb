{
 "cells": [
  {
   "cell_type": "code",
   "execution_count": 1,
   "id": "f71701c6-83cf-445f-bea7-5b1f66f069cf",
   "metadata": {},
   "outputs": [],
   "source": [
    "import pandas as pd\n",
    "import geopandas as gpd"
   ]
  },
  {
   "cell_type": "code",
   "execution_count": null,
   "id": "41a3e987-8a01-49b1-b212-a79f4082d87e",
   "metadata": {},
   "outputs": [],
   "source": [
    "# geocoded sales\n",
    "sales = pd.read_csv('../Data/Geocoded_cobb.csv')\n",
    "sales = sales.loc[:, ~sales.columns.str.startswith('Unnamed')]\n",
    "sales = gpd.GeoDataFrame(\n",
    "    sales, \n",
    "    geometry=gpd.points_from_xy(sales['long'], sales['lat']), \n",
    "    crs=\"EPSG:4326\"\n",
    ")\n",
    "\n",
    "# superdistricts\n",
    "url = \"https://services1.arcgis.com/Ug5xGQbHsD8zuZzM/arcgis/rest/services/ACS_2021_Population/FeatureServer/20/query?outFields=*&where=1%3D1&f=geojson\"\n",
    "superDistricts = gpd.read_file(url)\n",
    "superDistricts.crs = \"EPSG:4326\"\n",
    "\n",
    "\n",
    "joined_data = gpd.sjoin(sales, superDistricts)\n",
    "\n",
    "joined_data = joined_data[[\n",
    "    'full_address',\n",
    "    'sale_date',\n",
    "    'sale_price',\n",
    "    'price_num',\n",
    "    'sq_feet',\n",
    "    'price_sf',\n",
    "    'lat',\n",
    "    'long',\n",
    "    'NAME'\n",
    "]]\n",
    "\n",
    "joined_data.to_csv('../Cobb_18-23.csv')"
   ]
  }
 ],
 "metadata": {
  "kernelspec": {
   "display_name": "research",
   "language": "python",
   "name": "research"
  },
  "language_info": {
   "codemirror_mode": {
    "name": "ipython",
    "version": 3
   },
   "file_extension": ".py",
   "mimetype": "text/x-python",
   "name": "python",
   "nbconvert_exporter": "python",
   "pygments_lexer": "ipython3",
   "version": "3.11.4"
  }
 },
 "nbformat": 4,
 "nbformat_minor": 5
}
